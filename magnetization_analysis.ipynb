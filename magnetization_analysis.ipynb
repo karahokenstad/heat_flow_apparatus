{
  "nbformat": 4,
  "nbformat_minor": 0,
  "metadata": {
    "colab": {
      "name": "magnetization_analysis.ipynb",
      "provenance": [],
      "authorship_tag": "ABX9TyOFIP6AU1Sfz3S3l47KzzRK",
      "include_colab_link": true
    },
    "kernelspec": {
      "name": "python3",
      "display_name": "Python 3"
    },
    "language_info": {
      "name": "python"
    }
  },
  "cells": [
    {
      "cell_type": "markdown",
      "metadata": {
        "id": "view-in-github",
        "colab_type": "text"
      },
      "source": [
        "<a href=\"https://colab.research.google.com/github/karahokenstad/heat_flow_apparatus/blob/main/magnetization_analysis.ipynb\" target=\"_parent\"><img src=\"https://colab.research.google.com/assets/colab-badge.svg\" alt=\"Open In Colab\"/></a>"
      ]
    },
    {
      "cell_type": "markdown",
      "metadata": {
        "id": "hXXgYfJ4A_KB"
      },
      "source": [
        "# Install and import libraries"
      ]
    },
    {
      "cell_type": "code",
      "metadata": {
        "id": "JhOi40FxA63p",
        "colab": {
          "base_uri": "https://localhost:8080/"
        },
        "outputId": "fc46df05-de83-408f-d736-67521d273158"
      },
      "source": [
        "!pip install whit-phys-util"
      ],
      "execution_count": 1,
      "outputs": [
        {
          "output_type": "stream",
          "text": [
            "Collecting whit-phys-util\n",
            "  Downloading https://files.pythonhosted.org/packages/bc/96/45e054df5ed68633c2f401969d81f542d24c2545432eeeaddf42b153b7ad/whit_phys_util-0.2.4-py3-none-any.whl\n",
            "Collecting pydantic>=1.7.3\n",
            "\u001b[?25l  Downloading https://files.pythonhosted.org/packages/2b/a3/0ffdb6c63f45f10d19b8e8b32670b22ed089cafb29732f6bf8ce518821fb/pydantic-1.8.1-cp37-cp37m-manylinux2014_x86_64.whl (10.1MB)\n",
            "\u001b[K     |████████████████████████████████| 10.1MB 10.4MB/s \n",
            "\u001b[?25hCollecting python-dotenv>=0.10.4\n",
            "  Downloading https://files.pythonhosted.org/packages/86/62/aacbd1489fc6026c9278e9fd5cfdd49c5b1b5375d3c97a624e8f8f999eb2/python_dotenv-0.17.0-py2.py3-none-any.whl\n",
            "Requirement already satisfied: typing-extensions>=3.7.4.3 in /usr/local/lib/python3.7/dist-packages (from pydantic>=1.7.3->whit-phys-util) (3.7.4.3)\n",
            "Installing collected packages: pydantic, python-dotenv, whit-phys-util\n",
            "Successfully installed pydantic-1.8.1 python-dotenv-0.17.0 whit-phys-util-0.2.4\n"
          ],
          "name": "stdout"
        }
      ]
    },
    {
      "cell_type": "code",
      "metadata": {
        "id": "gu4pXIWjBFv4",
        "colab": {
          "base_uri": "https://localhost:8080/"
        },
        "outputId": "a90a648a-5a84-4dc0-f559-edaac5e65758"
      },
      "source": [
        "import numpy as np\n",
        "import pandas as pd\n",
        "import matplotlib.pyplot as plt\n",
        "import whit_phys_util as buc\n",
        "import scipy.constants as const"
      ],
      "execution_count": 2,
      "outputs": [
        {
          "output_type": "stream",
          "text": [
            "Mounted at /content/drive\n"
          ],
          "name": "stdout"
        }
      ]
    },
    {
      "cell_type": "markdown",
      "metadata": {
        "id": "6TqO6bciBLRU"
      },
      "source": [
        "# Connect to GitHub"
      ]
    },
    {
      "cell_type": "code",
      "metadata": {
        "id": "rtteQW6PBNxP",
        "colab": {
          "base_uri": "https://localhost:8080/"
        },
        "outputId": "15b18ad9-bcc2-4bbd-aa8c-3da8ff3705a6"
      },
      "source": [
        "repo = buc.local_repository(\"https://github.com/WhitworthPhysics/magnetization-part-1-karahokenstad\")"
      ],
      "execution_count": 14,
      "outputs": [
        {
          "output_type": "stream",
          "text": [
            "Repository exists at this location. Pulling changes from GitHub.\n"
          ],
          "name": "stdout"
        }
      ]
    },
    {
      "cell_type": "markdown",
      "metadata": {
        "id": "K9ZUD2sG9-0o"
      },
      "source": [
        "# Air-filled solenoid"
      ]
    },
    {
      "cell_type": "code",
      "metadata": {
        "id": "qcqti4TcCzn0"
      },
      "source": [
        "N_inner = 235 # turns for inner solenoid\n",
        "N_outer = 2920 # for outer solenoid\n",
        "n_inner = N_inner/0.12 # turns/m\n",
        "n_outer = N_outer/0.11\n",
        "R_inner = 0.00723 # between 0.0085 and 0.00052\n",
        "R_outer = 0.012 # between 0.0175 and 0.0099\n",
        "A_inner = np.pi*R_inner**2 # m^2\n",
        "A_outer = np.pi*R_outer**2"
      ],
      "execution_count": 121,
      "outputs": []
    },
    {
      "cell_type": "code",
      "metadata": {
        "id": "i4IHgZPi92ID"
      },
      "source": [
        "df_air = pd.read_csv('air_filled_emf.csv')\n",
        "df_air['H (A/m)'] = n_inner*df_air['Current (A)']\n",
        "df_air['dB0 (T)'] = df_air['EMF Integral (V*s)']/(N_outer*A_inner)\n",
        "df_air['B0 (T)'] = 0.0\n",
        "for i in range(1,df_air['B0 (T)'].size):\n",
        "  df_air.loc[i, 'B0 (T)'] = df_air.loc[i-1, 'B0 (T)'] + df_air.loc[i, 'dB0 (T)']"
      ],
      "execution_count": 122,
      "outputs": []
    },
    {
      "cell_type": "code",
      "metadata": {
        "colab": {
          "base_uri": "https://localhost:8080/",
          "height": 111
        },
        "id": "R5trThvxIRu6",
        "outputId": "12a20862-f623-4494-ff5b-77c2fe84702c"
      },
      "source": [
        "fitTable_air, fitFunc_air = buc.prettyPolyFit(df_air['H (A/m)'], df_air['B0 (T)'])\n",
        "fitTable_air"
      ],
      "execution_count": 123,
      "outputs": [
        {
          "output_type": "execute_result",
          "data": {
            "text/html": [
              "<div>\n",
              "<style scoped>\n",
              "    .dataframe tbody tr th:only-of-type {\n",
              "        vertical-align: middle;\n",
              "    }\n",
              "\n",
              "    .dataframe tbody tr th {\n",
              "        vertical-align: top;\n",
              "    }\n",
              "\n",
              "    .dataframe thead th {\n",
              "        text-align: right;\n",
              "    }\n",
              "</style>\n",
              "<table border=\"1\" class=\"dataframe\">\n",
              "  <thead>\n",
              "    <tr style=\"text-align: right;\">\n",
              "      <th></th>\n",
              "      <th>slope</th>\n",
              "      <th>intercept</th>\n",
              "    </tr>\n",
              "  </thead>\n",
              "  <tbody>\n",
              "    <tr>\n",
              "      <th>value</th>\n",
              "      <td>1.255038e-06</td>\n",
              "      <td>-0.000883</td>\n",
              "    </tr>\n",
              "    <tr>\n",
              "      <th>uncertainty</th>\n",
              "      <td>1.231804e-08</td>\n",
              "      <td>0.000042</td>\n",
              "    </tr>\n",
              "  </tbody>\n",
              "</table>\n",
              "</div>"
            ],
            "text/plain": [
              "                    slope  intercept\n",
              "value        1.255038e-06  -0.000883\n",
              "uncertainty  1.231804e-08   0.000042"
            ]
          },
          "metadata": {
            "tags": []
          },
          "execution_count": 123
        }
      ]
    },
    {
      "cell_type": "code",
      "metadata": {
        "colab": {
          "base_uri": "https://localhost:8080/",
          "height": 279
        },
        "id": "2dB6gdNo-baK",
        "outputId": "d8c2d8ab-0370-4a4f-95e6-acfccc48bd62"
      },
      "source": [
        "fig, ax = plt.subplots()\n",
        "ax.plot(df_air['H (A/m)'], df_air['B0 (T)'],'.');\n",
        "ax.set_xlabel(\"H (A/m)\");\n",
        "ax.set_ylabel(\"B0 (T)\");\n",
        "ax.set_xlim(-6000,6000);\n",
        "#ax.set_ylim(-0.0025,0.0025);\n",
        "H_fit = np.linspace(-6000,6000,2)\n",
        "ax.plot(H_fit, fitFunc_air(H_fit));"
      ],
      "execution_count": 124,
      "outputs": [
        {
          "output_type": "display_data",
          "data": {
            "image/png": "[encoded data removed]",
            "text/plain": [
              "<Figure size 432x288 with 1 Axes>"
            ]
          },
          "metadata": {
            "tags": [],
            "needs_background": "light"
          }
        }
      ]
    },
    {
      "cell_type": "code",
      "metadata": {
        "colab": {
          "base_uri": "https://localhost:8080/"
        },
        "id": "dvgkXqorHjLn",
        "outputId": "5c800589-bd08-46a4-c3a8-96033244c6f5"
      },
      "source": [
        "print(\"The slope is (%.1f ± %.1f)*10^-7 T*m/A\" % tuple(fitTable_air['slope']*10**7))\n",
        "print(\"The intercept is (%.0f ± %.0f)*10^-5 T\" % tuple(fitTable_air['intercept']*10**5))"
      ],
      "execution_count": 127,
      "outputs": [
        {
          "output_type": "stream",
          "text": [
            "The slope is (12.6 ± 0.1)*10^-7 T*m/A\n",
            "The intercept is (-88 ± 4)*10^-5 T\n"
          ],
          "name": "stdout"
        }
      ]
    },
    {
      "cell_type": "markdown",
      "metadata": {
        "id": "h0RPTmnjSaWh"
      },
      "source": [
        "# Iron-filled solenoid"
      ]
    },
    {
      "cell_type": "code",
      "metadata": {
        "id": "tBHTTwo2JoSI"
      },
      "source": [
        ""
      ],
      "execution_count": null,
      "outputs": []
    }
  ]
}