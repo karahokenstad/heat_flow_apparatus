{
  "nbformat": 4,
  "nbformat_minor": 0,
  "metadata": {
    "colab": {
      "name": "heat_flow_model.ipynb",
      "provenance": [],
      "authorship_tag": "ABX9TyOlxxLmpfRX3FfYqc5rpBU/",
      "include_colab_link": true
    },
    "kernelspec": {
      "name": "python3",
      "display_name": "Python 3"
    }
  },
  "cells": [
    {
      "cell_type": "markdown",
      "metadata": {
        "id": "view-in-github",
        "colab_type": "text"
      },
      "source": [
        "<a href=\"https://colab.research.google.com/github/karahokenstad/heat_flow_apparatus/blob/main/heat_flow_model.ipynb\" target=\"_parent\"><img src=\"https://colab.research.google.com/assets/colab-badge.svg\" alt=\"Open In Colab\"/></a>"
      ]
    },
    {
      "cell_type": "code",
      "metadata": {
        "colab": {
          "base_uri": "https://localhost:8080/"
        },
        "id": "Ybdkoa65gJhW",
        "outputId": "a6ec70f6-e7b5-4844-b89a-4dc12d20acc6"
      },
      "source": [
        "!pip install whit-phys-util"
      ],
      "execution_count": 76,
      "outputs": [
        {
          "output_type": "stream",
          "text": [
            "Requirement already satisfied: whit-phys-util in /usr/local/lib/python3.7/dist-packages (0.2.4)\n",
            "Requirement already satisfied: python-dotenv>=0.10.4 in /usr/local/lib/python3.7/dist-packages (from whit-phys-util) (0.15.0)\n",
            "Requirement already satisfied: pydantic>=1.7.3 in /usr/local/lib/python3.7/dist-packages (from whit-phys-util) (1.8.1)\n",
            "Requirement already satisfied: typing-extensions>=3.7.4.3 in /usr/local/lib/python3.7/dist-packages (from pydantic>=1.7.3->whit-phys-util) (3.7.4.3)\n"
          ],
          "name": "stdout"
        }
      ]
    },
    {
      "cell_type": "code",
      "metadata": {
        "id": "XZzqigh1gVPD"
      },
      "source": [
        "import numpy as np\r\n",
        "import pandas as pd\r\n",
        "import matplotlib.pyplot as plt\r\n",
        "import whit_phys_util as buc\r\n",
        "import scipy.constants as const\r\n",
        "import seaborn as sns"
      ],
      "execution_count": 77,
      "outputs": []
    },
    {
      "cell_type": "code",
      "metadata": {
        "colab": {
          "base_uri": "https://localhost:8080/"
        },
        "id": "5JcypSR1gYpg",
        "outputId": "50936916-e6a0-455c-924b-b372930706bb"
      },
      "source": [
        "repo = buc.local_repository(\"https://github.com/karahokenstad/heat_flow_apparatus\")"
      ],
      "execution_count": 78,
      "outputs": [
        {
          "output_type": "stream",
          "text": [
            "Repository exists at this location. Pulling changes from GitHub.\n",
            "git pull\n",
            "Your configuration specifies to merge with the ref 'refs/heads/master'\n",
            "from the remote, but no such ref was fetched.\n",
            "Command: < git pull > failed. Check your permissions.\n"
          ],
          "name": "stdout"
        }
      ]
    },
    {
      "cell_type": "code",
      "metadata": {
        "colab": {
          "base_uri": "https://localhost:8080/"
        },
        "id": "BoMfxoZXhGFF",
        "outputId": "91c30a19-af3e-45cf-f38b-12dc945291d4"
      },
      "source": [
        "model = np.zeros([10,10])\r\n",
        "model"
      ],
      "execution_count": 79,
      "outputs": [
        {
          "output_type": "execute_result",
          "data": {
            "text/plain": [
              "array([[0., 0., 0., 0., 0., 0., 0., 0., 0., 0.],\n",
              "       [0., 0., 0., 0., 0., 0., 0., 0., 0., 0.],\n",
              "       [0., 0., 0., 0., 0., 0., 0., 0., 0., 0.],\n",
              "       [0., 0., 0., 0., 0., 0., 0., 0., 0., 0.],\n",
              "       [0., 0., 0., 0., 0., 0., 0., 0., 0., 0.],\n",
              "       [0., 0., 0., 0., 0., 0., 0., 0., 0., 0.],\n",
              "       [0., 0., 0., 0., 0., 0., 0., 0., 0., 0.],\n",
              "       [0., 0., 0., 0., 0., 0., 0., 0., 0., 0.],\n",
              "       [0., 0., 0., 0., 0., 0., 0., 0., 0., 0.],\n",
              "       [0., 0., 0., 0., 0., 0., 0., 0., 0., 0.]])"
            ]
          },
          "metadata": {
            "tags": []
          },
          "execution_count": 79
        }
      ]
    },
    {
      "cell_type": "code",
      "metadata": {
        "id": "Os7Qy1iJjVl-"
      },
      "source": [
        "#F0M = k*dt/(cp*rho*dx**2)    actual eqn, must be < 0.25\r\n",
        "F0M = 0.1"
      ],
      "execution_count": 80,
      "outputs": []
    },
    {
      "cell_type": "markdown",
      "metadata": {
        "id": "pP5B5CYZlclN"
      },
      "source": [
        "# Boundary Conditions"
      ]
    },
    {
      "cell_type": "code",
      "metadata": {
        "colab": {
          "base_uri": "https://localhost:8080/"
        },
        "id": "_EPKomWLlhAC",
        "outputId": "697adcaa-4b6b-4967-cdf8-5ecf32ed3452"
      },
      "source": [
        "model[:,:] = 10\r\n",
        "model[:,0] = 30\r\n",
        "model[:,9] = 0\r\n",
        "model"
      ],
      "execution_count": 81,
      "outputs": [
        {
          "output_type": "execute_result",
          "data": {
            "text/plain": [
              "array([[30., 10., 10., 10., 10., 10., 10., 10., 10.,  0.],\n",
              "       [30., 10., 10., 10., 10., 10., 10., 10., 10.,  0.],\n",
              "       [30., 10., 10., 10., 10., 10., 10., 10., 10.,  0.],\n",
              "       [30., 10., 10., 10., 10., 10., 10., 10., 10.,  0.],\n",
              "       [30., 10., 10., 10., 10., 10., 10., 10., 10.,  0.],\n",
              "       [30., 10., 10., 10., 10., 10., 10., 10., 10.,  0.],\n",
              "       [30., 10., 10., 10., 10., 10., 10., 10., 10.,  0.],\n",
              "       [30., 10., 10., 10., 10., 10., 10., 10., 10.,  0.],\n",
              "       [30., 10., 10., 10., 10., 10., 10., 10., 10.,  0.],\n",
              "       [30., 10., 10., 10., 10., 10., 10., 10., 10.,  0.]])"
            ]
          },
          "metadata": {
            "tags": []
          },
          "execution_count": 81
        }
      ]
    },
    {
      "cell_type": "code",
      "metadata": {
        "colab": {
          "base_uri": "https://localhost:8080/",
          "height": 269
        },
        "id": "FdiEYbovvYl6",
        "outputId": "c9c5fb12-e07a-485d-bc5e-4b097ff1010d"
      },
      "source": [
        "ax = sns.heatmap(model, linewidth=0.5)\r\n",
        "plt.show()"
      ],
      "execution_count": 82,
      "outputs": [
        {
          "output_type": "display_data",
          "data": {
            "image/png": "[encoded data removed]",
            "text/plain": [
              "<Figure size 432x288 with 2 Axes>"
            ]
          },
          "metadata": {
            "tags": [],
            "needs_background": "light"
          }
        }
      ]
    },
    {
      "cell_type": "markdown",
      "metadata": {
        "id": "LkZzmNIlle69"
      },
      "source": [
        "# Solving"
      ]
    },
    {
      "cell_type": "code",
      "metadata": {
        "colab": {
          "base_uri": "https://localhost:8080/"
        },
        "id": "0VHZj3qNjyFy",
        "outputId": "d28357d4-68cd-4ee7-d0a5-86befae9c776"
      },
      "source": [
        "model_next = model\r\n",
        "dim = 10; # dimension of array\r\n",
        "for i in range(dim):\r\n",
        "  for j in range(dim):\r\n",
        "    if i == 0:\r\n",
        "      if j == 0:\r\n",
        "        model_next[i,j] = (1-4*F0M)*model[i,j] + F0M*(model[i+1,j] + model[i,j+1] + model[i,j] + model[i,j])\r\n",
        "      if j == (dim-1):\r\n",
        "        model_next[i,j] = (1-4*F0M)*model[i,j] + F0M*(model[i+1,j] + model[i,j] + model[i,j] + model[i,j-1])\r\n",
        "      else:\r\n",
        "        model_next[i,j] = (1-4*F0M)*model[i,j] + F0M*(model[i+1,j] + model[i,j+1] + model[i,j] + model[i,j-1])\r\n",
        "    elif i == (dim-1):\r\n",
        "      if j == 0:\r\n",
        "        model_next[i,j] = (1-4*F0M)*model[i,j] + F0M*(model[i,j] + model[i,j+1] + model[i-1,j] + model[i,j])\r\n",
        "      if j == (dim-1):\r\n",
        "        model_next[i,j] = (1-4*F0M)*model[i,j] + F0M*(model[i,j] + model[i,j] + model[i-1,j] + model[i,j-1])\r\n",
        "      else:\r\n",
        "        model_next[i,j] = (1-4*F0M)*model[i,j] + F0M*(model[i,j] + model[i,j+1] + model[i-1,j] + model[i,j-1])\r\n",
        "    else:\r\n",
        "      if j == 0:\r\n",
        "        model_next[i,j] = (1-4*F0M)*model[i,j] + F0M*(model[i+1,j] + model[i,j+1] + model[i-1,j] + model[i,j])\r\n",
        "      if j == (dim-1):\r\n",
        "        model_next[i,j] = (1-4*F0M)*model[i,j] + F0M*(model[i+1,j] + model[i,j] + model[i-1,j] + model[i,j-1])\r\n",
        "      else:\r\n",
        "        model_next[i,j] = (1-4*F0M)*model[i,j] + F0M*(model[i+1,j] + model[i,j+1] + model[i-1,j] + model[i,j-1])\r\n",
        "model_next"
      ],
      "execution_count": 85,
      "outputs": [
        {
          "output_type": "execute_result",
          "data": {
            "text/plain": [
              "array([[19.10912   , 12.017872  , 10.3138432 , 10.04272592, 10.00542035,\n",
              "        10.00065817, 10.00007757,  9.90000895,  8.27000101,  1.64500011],\n",
              "       [18.1706208 , 12.02308288, 10.34396157, 10.0506938 , 10.0069151 ,\n",
              "        10.00089795, 10.00011265,  9.88001378,  8.14200165,  1.7634002 ],\n",
              "       [17.96116119, 11.99778578, 10.34513777, 10.05188197, 10.00723996,\n",
              "        10.00096388, 10.00012417,  9.87701561,  8.12350192,  1.77835024],\n",
              "       [17.91784529, 11.98910893, 10.34427555, 10.05193072, 10.00728459,\n",
              "        10.00097661, 10.00012691,  9.87661612,  8.12106201,  1.78002625],\n",
              "       [17.90931553, 11.98699254, 10.34392691, 10.05189727, 10.00728609,\n",
              "        10.00097824, 10.00012739,  9.87656623,  8.12075703,  1.78019875],\n",
              "       [17.90769187, 11.98654453, 10.34383476, 10.05188312, 10.0072847 ,\n",
              "        10.00097827, 10.00012745,  9.87656024,  8.12072024,  1.78021516],\n",
              "       [17.90739036, 11.98645665, 10.34381422, 10.05187923, 10.00728412,\n",
              "        10.00097821, 10.00012745,  9.87655955,  8.12071591,  1.78021657],\n",
              "       [17.90733542, 11.98644019, 10.34381005, 10.05187834, 10.00728396,\n",
              "        10.00097819, 10.00012745,  9.87655947,  8.12071541,  1.78021668],\n",
              "       [17.86351603, 11.97931815, 10.34282353, 10.0517522 , 10.00726859,\n",
              "        10.00097637, 10.00012724,  9.87655943,  8.12071535,  1.78021669],\n",
              "       [17.58260156, 11.93381206, 10.33650402, 10.05094061, 10.00716919,\n",
              "        10.00096458, 10.00012587,  9.87655928,  8.12071532,  1.78021668]])"
            ]
          },
          "metadata": {
            "tags": []
          },
          "execution_count": 85
        }
      ]
    },
    {
      "cell_type": "code",
      "metadata": {
        "colab": {
          "base_uri": "https://localhost:8080/",
          "height": 265
        },
        "id": "r55ZeXzLkHhu",
        "outputId": "f6f930a0-8c99-4508-bf3a-70d24ba62380"
      },
      "source": [
        "ax = sns.heatmap(model_next, linewidth=0.5)\r\n",
        "plt.show()"
      ],
      "execution_count": 86,
      "outputs": [
        {
          "output_type": "display_data",
          "data": {
            "image/png": "[encoded data removed]",
            "text/plain": [
              "<Figure size 432x288 with 2 Axes>"
            ]
          },
          "metadata": {
            "tags": [],
            "needs_background": "light"
          }
        }
      ]
    },
    {
      "cell_type": "code",
      "metadata": {
        "id": "wklN2l8Eu0LX"
      },
      "source": [
        ""
      ],
      "execution_count": 84,
      "outputs": []
    }
  ]
}