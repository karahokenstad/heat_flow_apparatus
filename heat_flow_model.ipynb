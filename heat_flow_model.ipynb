{
  "nbformat": 4,
  "nbformat_minor": 0,
  "metadata": {
    "colab": {
      "name": "heat_flow_model.ipynb",
      "provenance": [],
      "authorship_tag": "ABX9TyOJp8CFjvov5F3Nxr/Pp2u9",
      "include_colab_link": true
    },
    "kernelspec": {
      "name": "python3",
      "display_name": "Python 3"
    }
  },
  "cells": [
    {
      "cell_type": "markdown",
      "metadata": {
        "id": "view-in-github",
        "colab_type": "text"
      },
      "source": [
        "<a href=\"https://colab.research.google.com/github/karahokenstad/heat_flow_apparatus/blob/main/heat_flow_model.ipynb\" target=\"_parent\"><img src=\"https://colab.research.google.com/assets/colab-badge.svg\" alt=\"Open In Colab\"/></a>"
      ]
    },
    {
      "cell_type": "code",
      "metadata": {
        "colab": {
          "base_uri": "https://localhost:8080/"
        },
        "id": "Ybdkoa65gJhW",
        "outputId": "7b8e0638-c257-4483-c608-5a618477acfa"
      },
      "source": [
        "!pip install whit-phys-util"
      ],
      "execution_count": 266,
      "outputs": [
        {
          "output_type": "stream",
          "text": [
            "Requirement already satisfied: whit-phys-util in /usr/local/lib/python3.7/dist-packages (0.2.4)\n",
            "Requirement already satisfied: python-dotenv>=0.10.4 in /usr/local/lib/python3.7/dist-packages (from whit-phys-util) (0.15.0)\n",
            "Requirement already satisfied: pydantic>=1.7.3 in /usr/local/lib/python3.7/dist-packages (from whit-phys-util) (1.8.1)\n",
            "Requirement already satisfied: typing-extensions>=3.7.4.3 in /usr/local/lib/python3.7/dist-packages (from pydantic>=1.7.3->whit-phys-util) (3.7.4.3)\n"
          ],
          "name": "stdout"
        }
      ]
    },
    {
      "cell_type": "code",
      "metadata": {
        "id": "XZzqigh1gVPD"
      },
      "source": [
        "import numpy as np\r\n",
        "import pandas as pd\r\n",
        "import matplotlib.pyplot as plt\r\n",
        "import whit_phys_util as buc\r\n",
        "import scipy.constants as const"
      ],
      "execution_count": 267,
      "outputs": []
    },
    {
      "cell_type": "code",
      "metadata": {
        "id": "BoMfxoZXhGFF"
      },
      "source": [
        "dim = 10 # dimension of array\r\n",
        "iters = 20 # number of modeling iterations\r\n",
        "model = np.zeros([iters,dim,dim]) "
      ],
      "execution_count": 268,
      "outputs": []
    },
    {
      "cell_type": "code",
      "metadata": {
        "id": "Os7Qy1iJjVl-"
      },
      "source": [
        "#F0M = k*dt/(cp*rho*dx**2)    actual eqn, must be < 0.25\r\n",
        "F0M = 0.2"
      ],
      "execution_count": 269,
      "outputs": []
    },
    {
      "cell_type": "markdown",
      "metadata": {
        "id": "pP5B5CYZlclN"
      },
      "source": [
        "# Boundary Conditions"
      ]
    },
    {
      "cell_type": "code",
      "metadata": {
        "id": "_EPKomWLlhAC"
      },
      "source": [
        "model[:,:,:] = 20\r\n",
        "model[:,:,0] = 50\r\n",
        "model[:,:,9] = 0"
      ],
      "execution_count": 270,
      "outputs": []
    },
    {
      "cell_type": "markdown",
      "metadata": {
        "id": "LkZzmNIlle69"
      },
      "source": [
        "# Solution"
      ]
    },
    {
      "cell_type": "code",
      "metadata": {
        "id": "0VHZj3qNjyFy"
      },
      "source": [
        "for x in range(0,iters-1):\r\n",
        "  for i in range(dim):\r\n",
        "    for j in range(dim):\r\n",
        "      if i == 0:\r\n",
        "        if j == 0:\r\n",
        "          model[x+1,i,j] = (1-4*F0M)*model[x,i,j] + F0M*(model[x,i+1,j] + model[x,i,j+1] + model[x,i,j] + model[x,i,j])\r\n",
        "        if j == (dim-1):\r\n",
        "          model[x+1,i,j] = (1-4*F0M)*model[x,i,j] + F0M*(model[x,i+1,j] + model[x,i,j] + model[x,i,j] + model[x,i,j-1])\r\n",
        "        else:\r\n",
        "          model[x+1,i,j] = (1-4*F0M)*model[x,i,j] + F0M*(model[x,i+1,j] + model[x,i,j+1] + model[x,i,j] + model[x,i,j-1])\r\n",
        "      elif i == (dim-1):\r\n",
        "        if j == 0:\r\n",
        "          model[x+1,i,j] = (1-4*F0M)*model[x,i,j] + F0M*(model[x,i,j] + model[x,i,j+1] + model[x,i-1,j] + model[x,i,j])\r\n",
        "        if j == (dim-1):\r\n",
        "          model[x+1,i,j] = (1-4*F0M)*model[x,i,j] + F0M*(model[x,i,j] + model[x,i,j] + model[x,i-1,j] + model[x,i,j-1])\r\n",
        "        else:\r\n",
        "          model[x+1,i,j] = (1-4*F0M)*model[x,i,j] + F0M*(model[x,i,j] + model[x,i,j+1] + model[x,i-1,j] + model[x,i,j-1])\r\n",
        "      else:\r\n",
        "        if j == 0:\r\n",
        "          model[x+1,i,j] = (1-4*F0M)*model[x,i,j] + F0M*(model[x,i+1,j] + model[x,i,j+1] + model[x,i-1,j] + model[x,i,j])\r\n",
        "        if j == (dim-1):\r\n",
        "          model[x+1,i,j] = (1-4*F0M)*model[x,i,j] + F0M*(model[x,i+1,j] + model[x,i,j] + model[x,i-1,j] + model[x,i,j-1])\r\n",
        "        else:\r\n",
        "          model[x+1,i,j] = (1-4*F0M)*model[x,i,j] + F0M*(model[x,i+1,j] + model[x,i,j+1] + model[x,i-1,j] + model[x,i,j-1])"
      ],
      "execution_count": 271,
      "outputs": []
    },
    {
      "cell_type": "code",
      "metadata": {
        "id": "qWwffQNXxn-5"
      },
      "source": [
        "def heatmap2d(arr: np.ndarray):\r\n",
        "    plt.imshow(arr, cmap='viridis')\r\n",
        "    plt.colorbar()\r\n",
        "    plt.show()"
      ],
      "execution_count": 272,
      "outputs": []
    },
    {
      "cell_type": "code",
      "metadata": {
        "colab": {
          "base_uri": "https://localhost:8080/",
          "height": 269
        },
        "id": "9Hh4VzOz4Fu0",
        "outputId": "fad9df3d-2e0b-41d2-8284-6ff7f17f5a06"
      },
      "source": [
        "heatmap2d(model[0,:,:])"
      ],
      "execution_count": 273,
      "outputs": [
        {
          "output_type": "display_data",
          "data": {
            "image/png": "[encoded data removed]",
            "text/plain": [
              "<Figure size 432x288 with 2 Axes>"
            ]
          },
          "metadata": {
            "tags": [],
            "needs_background": "light"
          }
        }
      ]
    },
    {
      "cell_type": "code",
      "metadata": {
        "colab": {
          "base_uri": "https://localhost:8080/",
          "height": 265
        },
        "id": "DslIK8xQxuJZ",
        "outputId": "0319ad99-c029-476b-e0bf-5feaa678cb76"
      },
      "source": [
        "heatmap2d(model[1,:,:])"
      ],
      "execution_count": 274,
      "outputs": [
        {
          "output_type": "display_data",
          "data": {
            "image/png": "[encoded data removed]",
            "text/plain": [
              "<Figure size 432x288 with 2 Axes>"
            ]
          },
          "metadata": {
            "tags": [],
            "needs_background": "light"
          }
        }
      ]
    },
    {
      "cell_type": "code",
      "metadata": {
        "colab": {
          "base_uri": "https://localhost:8080/",
          "height": 265
        },
        "id": "yImEj9Kb38jB",
        "outputId": "2cc7e08e-8892-4056-c9e8-ba79b9e3fe34"
      },
      "source": [
        "heatmap2d(model[2,:,:])"
      ],
      "execution_count": 275,
      "outputs": [
        {
          "output_type": "display_data",
          "data": {
            "image/png": "[encoded data removed]",
            "text/plain": [
              "<Figure size 432x288 with 2 Axes>"
            ]
          },
          "metadata": {
            "tags": [],
            "needs_background": "light"
          }
        }
      ]
    },
    {
      "cell_type": "code",
      "metadata": {
        "colab": {
          "base_uri": "https://localhost:8080/",
          "height": 269
        },
        "id": "5YjcVFwI4UcV",
        "outputId": "bb9a5fb6-84a8-4521-c6d1-023b0a9c62a6"
      },
      "source": [
        "heatmap2d(model[:,5,:])"
      ],
      "execution_count": 277,
      "outputs": [
        {
          "output_type": "display_data",
          "data": {
            "image/png": "[encoded data removed]",
            "text/plain": [
              "<Figure size 432x288 with 2 Axes>"
            ]
          },
          "metadata": {
            "tags": [],
            "needs_background": "light"
          }
        }
      ]
    },
    {
      "cell_type": "code",
      "metadata": {
        "id": "oL-RSckG42BT"
      },
      "source": [
        ""
      ],
      "execution_count": null,
      "outputs": []
    }
  ]
}